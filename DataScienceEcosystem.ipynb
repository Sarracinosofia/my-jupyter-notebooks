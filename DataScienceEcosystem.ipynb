{
 "cells": [
  {
   "cell_type": "markdown",
   "id": "53d79359-0357-4403-bd28-2000e17ff2a3",
   "metadata": {},
   "source": [
    "# Data Science Tools and Ecosystem"
   ]
  },
  {
   "cell_type": "code",
   "execution_count": null,
   "id": "df9c465d-dac4-4083-8a1f-c75c11bbe415",
   "metadata": {},
   "outputs": [],
   "source": []
  },
  {
   "cell_type": "markdown",
   "id": "7ca76900-1e15-4f65-b06f-182e44ad4ba9",
   "metadata": {},
   "source": [
    "In this notebook, Data Science Tools and Ecosystem are summarized."
   ]
  },
  {
   "cell_type": "markdown",
   "id": "21c4d191-ed45-46a4-9c45-484e00349ddb",
   "metadata": {},
   "source": [
    "**Objectives:**\n",
    "\n",
    "- List popular languages for Data Science.\n",
    "- Learn how to evaluate arithmetic expressions in Python.\n",
    "- Understand how to convert minutes to hours.\n",
    "- Explore tools and libraries for data analysis."
   ]
  },
  {
   "cell_type": "markdown",
   "id": "641da3f9-81e1-4b25-9c3b-2ffd1bb7762a",
   "metadata": {},
   "source": [
    "Some of the popular languages that Data Scientists use are:\n",
    "\n",
    "1. PYTHON\n",
    "2. R\n",
    "3. SQL"
   ]
  },
  {
   "cell_type": "markdown",
   "id": "bbe0fb1b-830b-4a43-b192-939bd245eb03",
   "metadata": {},
   "source": [
    "Some of the commonly used libraries used by Data Scientists include:\n",
    "\n",
    "1. NumPy\n",
    "2. Pandas\n",
    "3. Matplotlib"
   ]
  },
  {
   "cell_type": "markdown",
   "id": "9d4b8864-47e7-4342-b50d-a590d368ad73",
   "metadata": {},
   "source": [
    "| Data Science Tools |\n",
    "|--------------------|\n",
    "| Jupyter notebook   |\n",
    "| RStudio            |\n",
    "| Apache Spark       |"
   ]
  },
  {
   "cell_type": "markdown",
   "id": "93ce6d61-b31e-418e-a6ae-f64578f73f95",
   "metadata": {},
   "source": [
    "### Below are a few examples of evaluating arithmetic expressions in Python:\n",
    "\n",
    "- **Addition:** `5 + 3` equals 8\n",
    "- **Subtraction:** `10 - 7` equals 3\n",
    "- **Multiplication:** `4 * 6` equals 24"
   ]
  },
  {
   "cell_type": "code",
   "execution_count": 30,
   "id": "1596e296-78f0-4d7a-8364-d60a0e0f0955",
   "metadata": {},
   "outputs": [
    {
     "data": {
      "text/plain": [
       "17"
      ]
     },
     "execution_count": 30,
     "metadata": {},
     "output_type": "execute_result"
    }
   ],
   "source": [
    "# This a simple arithmetic expression to mutiply then add integers:\n",
    "\n",
    "result = (3*4)+5\n",
    "result "
   ]
  },
  {
   "cell_type": "code",
   "execution_count": 32,
   "id": "c4121e29-6517-4339-bada-e704d580b0c1",
   "metadata": {},
   "outputs": [
    {
     "data": {
      "text/plain": [
       "3.3333333333333335"
      ]
     },
     "execution_count": 32,
     "metadata": {},
     "output_type": "execute_result"
    }
   ],
   "source": [
    "# This will convert 200 minutes to hours by diving by 60.\n",
    "\n",
    "minutes = 200\n",
    "hours = minutes / 60\n",
    "hours \n",
    "\n"
   ]
  },
  {
   "cell_type": "markdown",
   "id": "405f1126-5e79-48a1-8c5f-881a88fd6164",
   "metadata": {},
   "source": [
    "## Author\n",
    "\n",
    "Sofia "
   ]
  },
  {
   "cell_type": "code",
   "execution_count": null,
   "id": "910ae144-2279-4f9c-ae5e-9706faae53fa",
   "metadata": {},
   "outputs": [],
   "source": []
  }
 ],
 "metadata": {
  "kernelspec": {
   "display_name": "Python [conda env:base] *",
   "language": "python",
   "name": "conda-base-py"
  },
  "language_info": {
   "codemirror_mode": {
    "name": "ipython",
    "version": 3
   },
   "file_extension": ".py",
   "mimetype": "text/x-python",
   "name": "python",
   "nbconvert_exporter": "python",
   "pygments_lexer": "ipython3",
   "version": "3.12.7"
  }
 },
 "nbformat": 4,
 "nbformat_minor": 5
}
